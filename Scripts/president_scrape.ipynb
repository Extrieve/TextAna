{
 "cells": [
  {
   "cell_type": "code",
   "execution_count": 1,
   "metadata": {},
   "outputs": [],
   "source": [
    "from bs4 import BeautifulSoup\n",
    "import requests"
   ]
  },
  {
   "cell_type": "code",
   "execution_count": 2,
   "metadata": {},
   "outputs": [],
   "source": [
    "url = 'https://en.wikipedia.org/wiki/List_of_presidents_of_the_United_States'"
   ]
  },
  {
   "cell_type": "code",
   "execution_count": null,
   "metadata": {},
   "outputs": [],
   "source": [
    "soup = BeautifulSoup(requests.get(url).text, 'html.parser')\n",
    "soup"
   ]
  },
  {
   "cell_type": "code",
   "execution_count": null,
   "metadata": {},
   "outputs": [],
   "source": [
    "# Find the table\n",
    "table = soup.find('table', {'class': 'wikitable sortable'})\n",
    "table"
   ]
  },
  {
   "cell_type": "code",
   "execution_count": null,
   "metadata": {},
   "outputs": [],
   "source": [
    "table.find_all('tr')"
   ]
  },
  {
   "cell_type": "code",
   "execution_count": 6,
   "metadata": {},
   "outputs": [
    {
     "name": "stdout",
     "output_type": "stream",
     "text": [
      "{'Washington,George': {'party': 'unaffiliated', 'speeches': []}, 'Adams,John': {'party': 'Federalist Party', 'speeches': []}, 'Jefferson,Thomas': {'party': 'Democratic-Republican Party', 'speeches': []}, 'Madison,James': {'party': 'Democratic-Republican Party', 'speeches': []}, 'Monroe,James': {'party': 'Democratic-Republican Party', 'speeches': []}, 'Adams,JohnQuincy': {'party': 'Democratic-Republican Party', 'speeches': []}, 'Jackson,Andrew': {'party': 'Democratic Party (United States)', 'speeches': []}, 'VanBuren,Martin': {'party': 'Democratic Party (United States)', 'speeches': []}, 'Harrison,WilliamHenry': {'party': 'Whig Party (United States)', 'speeches': []}, 'Tyler,John': {'party': 'Whig Party (United States)', 'speeches': []}, 'Polk,JamesK': {'party': 'Democratic Party (United States)', 'speeches': []}, 'Taylor,Zachary': {'party': 'Whig Party (United States)', 'speeches': []}, 'Fillmore,Millard': {'party': 'Whig Party (United States)', 'speeches': []}, 'Pierce,Franklin': {'party': 'Democratic Party (United States)', 'speeches': []}, 'Buchanan,James': {'party': 'Democratic Party (United States)', 'speeches': []}, 'Lincoln,Abraham': {'party': 'Republican Party (United States)', 'speeches': []}, 'Johnson,Andrew': {'party': 'National Union Party (United States)', 'speeches': []}, 'Grant,UlyssesS': {'party': 'Republican Party (United States)', 'speeches': []}, 'Hayes,RutherfordB.': {'party': 'Republican Party (United States)', 'speeches': []}, 'Garfield,JamesA': {'party': 'Republican Party (United States)', 'speeches': []}, 'Arthur,ChesterA.': {'party': 'Republican Party (United States)', 'speeches': []}, 'Cleveland,Grover,1': {'party': 'Democratic Party (United States)', 'speeches': []}, 'Harrison,Benjamin': {'party': 'Republican Party (United States)', 'speeches': []}, 'Cleveland,Grover,2': {'party': 'Democratic Party (United States)', 'speeches': []}, 'McKinley,William': {'party': 'Republican Party (United States)', 'speeches': []}, 'Roosevelt,Theodore': {'party': 'Republican Party (United States)', 'speeches': []}, 'Taft,WilliamHoward': {'party': 'Republican Party (United States)', 'speeches': []}, 'Wilson,Woodrow': {'party': 'Democratic Party (United States)', 'speeches': []}, 'Harding,WarrenG.': {'party': 'Republican Party (United States)', 'speeches': []}, 'Coolidge,Calvin': {'party': 'Republican Party (United States)', 'speeches': []}, 'Hoover,Herbert': {'party': 'Republican Party (United States)', 'speeches': []}, 'Roosevelt,FranklinD': {'party': 'Democratic Party (United States)', 'speeches': []}, 'Truman,HarryS.': {'party': 'Democratic Party (United States)', 'speeches': []}, 'Eisenhower,DwightD': {'party': 'Republican Party (United States)', 'speeches': []}, 'Kennedy,JohnF.': {'party': 'Democratic Party (United States)', 'speeches': []}, 'Johnson,LyndonB': {'party': 'Democratic Party (United States)', 'speeches': []}, 'Nixon,Richard': {'party': 'Republican Party (United States)', 'speeches': []}, 'Ford,Gerald': {'party': 'Republican Party (United States)', 'speeches': []}, 'Carter,Jimmy': {'party': 'Democratic Party (United States)', 'speeches': []}, 'Reagan,Ronald': {'party': 'Republican Party (United States)', 'speeches': []}, 'Bush,GeorgeH.W.': {'party': 'Republican Party (United States)', 'speeches': []}, 'Clinton,Bill': {'party': 'Democratic Party (United States)', 'speeches': []}, 'Bush,GeorgeW.': {'party': 'Republican Party (United States)', 'speeches': []}, 'Obama,Barack': {'party': 'Democratic Party (United States)', 'speeches': []}, 'Trump,Donald': {'party': 'Republican Party (United States)', 'speeches': []}, 'Biden,Joe': {'party': 'Democratic Party (United States)', 'speeches': []}}\n"
     ]
    }
   ],
   "source": [
    "presidents = dict()\n",
    "for row in table.find_all('tr')[1:]:\n",
    "    cells = row.find_all('td')\n",
    "    # get text out of 'data-sort-value'\n",
    "    left_index = str(cells[1]).index('\"')\n",
    "    right_index = str(cells[1]).index('\"', left_index + 1)\n",
    "    name = str(cells[1])[left_index + 1:right_index]\n",
    "    party = 'unaffiliated'\n",
    "    try:\n",
    "        index_left = str(cells[4]).index('title=\"')\n",
    "        index_right = str(cells[4]).index('\"', index_left + 7)\n",
    "        party = str(cells[4])[index_left + 7:index_right]\n",
    "    except ValueError:\n",
    "        pass\n",
    "\n",
    "    name = name.replace(' ', '')\n",
    "    if name not in presidents:\n",
    "        presidents[name] = {'party': party, 'speeches': []}\n",
    "    else:\n",
    "        # presidents[name]['terms'] += 1\n",
    "        pass\n",
    "\n",
    "print(presidents)"
   ]
  },
  {
   "cell_type": "code",
   "execution_count": 8,
   "metadata": {},
   "outputs": [],
   "source": [
    "# Export presidents to json\n",
    "import json\n",
    "with open('../data/presidents.json', 'w') as f:\n",
    "    json.dump(presidents, f)"
   ]
  }
 ],
 "metadata": {
  "kernelspec": {
   "display_name": "Python 3.10.4 ('env': venv)",
   "language": "python",
   "name": "python3"
  },
  "language_info": {
   "codemirror_mode": {
    "name": "ipython",
    "version": 3
   },
   "file_extension": ".py",
   "mimetype": "text/x-python",
   "name": "python",
   "nbconvert_exporter": "python",
   "pygments_lexer": "ipython3",
   "version": "3.10.4"
  },
  "orig_nbformat": 4,
  "vscode": {
   "interpreter": {
    "hash": "288f88e1525da20fff15e56a8337f17a0f7e581728395fce957d82168c076976"
   }
  }
 },
 "nbformat": 4,
 "nbformat_minor": 2
}
